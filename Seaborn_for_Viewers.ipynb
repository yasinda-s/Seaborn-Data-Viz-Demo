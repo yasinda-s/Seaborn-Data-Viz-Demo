{
  "nbformat": 4,
  "nbformat_minor": 0,
  "metadata": {
    "colab": {
      "provenance": []
    },
    "kernelspec": {
      "name": "python3",
      "display_name": "Python 3"
    },
    "language_info": {
      "name": "python"
    }
  },
  "cells": [
    {
      "cell_type": "markdown",
      "metadata": {
        "id": "9tKlZBkySFc5"
      },
      "source": [
        "This notebook consists of code that helps you visualize data in a dataframe. I have focused mainly on seaborn!"
      ]
    },
    {
      "cell_type": "markdown",
      "metadata": {
        "id": "c3Nj9i3bghOX"
      },
      "source": [
        "# **`                  SEABORN - HANDS ON ACTIVITY`**\n"
      ]
    },
    {
      "cell_type": "code",
      "metadata": {
        "id": "7ZCBsHKIqtnh"
      },
      "source": [
        "%matplotlib inline\n",
        "#ensures that all graphs plotted remains in the same notebook\n",
        "import pandas as pd\n",
        "#load up pandas to work with dataframes\n",
        "\n",
        "df = pd.read_csv(\"http://media.sundog-soft.com/SelfDriving/FuelEfficiency.csv\")\n",
        "#load up a real dataset about fuel efficiency in vehicles"
      ],
      "execution_count": null,
      "outputs": []
    },
    {
      "cell_type": "code",
      "metadata": {
        "id": "-vWp7IVIqzBU",
        "colab": {
          "base_uri": "https://localhost:8080/",
          "height": 203
        },
        "outputId": "ab247ff6-0e77-4496-fd73-d6bcfcca1a26"
      },
      "source": [
        "df.head()\n",
        "#head function called to print only the first 5 rows"
      ],
      "execution_count": null,
      "outputs": [
        {
          "output_type": "execute_result",
          "data": {
            "text/html": [
              "<div>\n",
              "<style scoped>\n",
              "    .dataframe tbody tr th:only-of-type {\n",
              "        vertical-align: middle;\n",
              "    }\n",
              "\n",
              "    .dataframe tbody tr th {\n",
              "        vertical-align: top;\n",
              "    }\n",
              "\n",
              "    .dataframe thead th {\n",
              "        text-align: right;\n",
              "    }\n",
              "</style>\n",
              "<table border=\"1\" class=\"dataframe\">\n",
              "  <thead>\n",
              "    <tr style=\"text-align: right;\">\n",
              "      <th></th>\n",
              "      <th>Mfr Name</th>\n",
              "      <th>Carline</th>\n",
              "      <th>Eng Displ</th>\n",
              "      <th>Cylinders</th>\n",
              "      <th>Transmission</th>\n",
              "      <th>CityMPG</th>\n",
              "      <th>HwyMPG</th>\n",
              "      <th>CombMPG</th>\n",
              "      <th># Gears</th>\n",
              "    </tr>\n",
              "  </thead>\n",
              "  <tbody>\n",
              "    <tr>\n",
              "      <th>0</th>\n",
              "      <td>aston martin</td>\n",
              "      <td>Vantage V8</td>\n",
              "      <td>4.0</td>\n",
              "      <td>8</td>\n",
              "      <td>Auto(S8)</td>\n",
              "      <td>18</td>\n",
              "      <td>25</td>\n",
              "      <td>21</td>\n",
              "      <td>8</td>\n",
              "    </tr>\n",
              "    <tr>\n",
              "      <th>1</th>\n",
              "      <td>Volkswagen Group of</td>\n",
              "      <td>Chiron</td>\n",
              "      <td>8.0</td>\n",
              "      <td>16</td>\n",
              "      <td>Auto(AM-S7)</td>\n",
              "      <td>9</td>\n",
              "      <td>14</td>\n",
              "      <td>11</td>\n",
              "      <td>7</td>\n",
              "    </tr>\n",
              "    <tr>\n",
              "      <th>2</th>\n",
              "      <td>General Motors</td>\n",
              "      <td>CORVETTE</td>\n",
              "      <td>6.2</td>\n",
              "      <td>8</td>\n",
              "      <td>Auto(S8)</td>\n",
              "      <td>12</td>\n",
              "      <td>20</td>\n",
              "      <td>15</td>\n",
              "      <td>8</td>\n",
              "    </tr>\n",
              "    <tr>\n",
              "      <th>3</th>\n",
              "      <td>General Motors</td>\n",
              "      <td>CORVETTE</td>\n",
              "      <td>6.2</td>\n",
              "      <td>8</td>\n",
              "      <td>Auto(S8)</td>\n",
              "      <td>15</td>\n",
              "      <td>25</td>\n",
              "      <td>18</td>\n",
              "      <td>8</td>\n",
              "    </tr>\n",
              "    <tr>\n",
              "      <th>4</th>\n",
              "      <td>General Motors</td>\n",
              "      <td>CORVETTE</td>\n",
              "      <td>6.2</td>\n",
              "      <td>8</td>\n",
              "      <td>Auto(S8)</td>\n",
              "      <td>14</td>\n",
              "      <td>23</td>\n",
              "      <td>17</td>\n",
              "      <td>8</td>\n",
              "    </tr>\n",
              "  </tbody>\n",
              "</table>\n",
              "</div>"
            ],
            "text/plain": [
              "              Mfr Name     Carline  Eng Displ  ...  HwyMPG CombMPG  # Gears\n",
              "0         aston martin  Vantage V8        4.0  ...      25      21        8\n",
              "1  Volkswagen Group of      Chiron        8.0  ...      14      11        7\n",
              "2       General Motors    CORVETTE        6.2  ...      20      15        8\n",
              "3       General Motors    CORVETTE        6.2  ...      25      18        8\n",
              "4       General Motors    CORVETTE        6.2  ...      23      17        8\n",
              "\n",
              "[5 rows x 9 columns]"
            ]
          },
          "metadata": {},
          "execution_count": 2
        }
      ]
    },
    {
      "cell_type": "code",
      "metadata": {
        "id": "jyuCHyetq2oI"
      },
      "source": [
        "gear_counts = df['# Gears'].value_counts()\n",
        "#shows the counts of all values in number of gears - we can use this to plot a bar plot"
      ],
      "execution_count": null,
      "outputs": []
    },
    {
      "cell_type": "code",
      "metadata": {
        "id": "NBaX85goQeC4",
        "colab": {
          "base_uri": "https://localhost:8080/",
          "height": 285
        },
        "outputId": "1272cd77-47c7-48d7-f240-8c7ad7226cfd"
      },
      "source": [
        "gear_counts.plot(kind='bar')\n",
        "#so far we have been using matplotlib, now lets move onto seaborn"
      ],
      "execution_count": null,
      "outputs": [
        {
          "output_type": "execute_result",
          "data": {
            "text/plain": [
              "<matplotlib.axes._subplots.AxesSubplot at 0x7f076dcf5f50>"
            ]
          },
          "metadata": {},
          "execution_count": 4
        },
        {
          "output_type": "display_data",
          "data": {
            "image/png": "[encoded data removed]",
            "text/plain": [
              "<Figure size 432x288 with 1 Axes>"
            ]
          },
          "metadata": {
            "needs_background": "light"
          }
        }
      ]
    },
    {
      "cell_type": "code",
      "metadata": {
        "id": "6bhOG7mJQkNX"
      },
      "source": [
        "import seaborn as sns\n",
        "sns.set()\n",
        "#set function overwrites the matplotlib setting style for the graphs created to seaborn style"
      ],
      "execution_count": null,
      "outputs": []
    },
    {
      "cell_type": "code",
      "metadata": {
        "id": "qOgR_QrxRAWf",
        "colab": {
          "base_uri": "https://localhost:8080/",
          "height": 268
        },
        "outputId": "2e8a9de4-bf0a-4754-8cff-8ce1b7a9a31b"
      },
      "source": [
        "#add in a style you prefer here!\n",
        "sns.set_style('darkgrid')\n",
        "sns.set_context('paper')\n",
        "\n",
        "ax = gear_counts.plot(kind='bar')\n",
        "\n",
        "#sns.despine()"
      ],
      "execution_count": null,
      "outputs": [
        {
          "output_type": "display_data",
          "data": {
            "image/png": "[encoded data removed]",
            "text/plain": [
              "<Figure size 432x288 with 1 Axes>"
            ]
          },
          "metadata": {}
        }
      ]
    },
    {
      "cell_type": "markdown",
      "metadata": {
        "id": "Ma-7F0evbqod"
      },
      "source": [
        "# **`DISTRIBUTION PLOT - distplot`**"
      ]
    },
    {
      "cell_type": "markdown",
      "metadata": {
        "id": "rDigaMHtR9fp"
      },
      "source": [
        "Seaborn has many plots matplot doesnt offer, now we shall use the distplot which plots a histogram along with a Distribution of that histogram overlaid on it.\n",
        "\n",
        "Let's plot the distribution of MPG values on the vehicles in this database as an example."
      ]
    },
    {
      "cell_type": "code",
      "metadata": {
        "id": "wlv-hRqkRD2b",
        "colab": {
          "base_uri": "https://localhost:8080/",
          "height": 350
        },
        "outputId": "94589ed4-1bb7-43b4-ad64-f3d8cf3d4ce0"
      },
      "source": [
        "#feel free to change any parameters for your preference!\n",
        "#sns.set_style()\n",
        "#sns.set_context()\n",
        "\n",
        "ax = sns.distplot(df['CombMPG'], color='r')\n",
        "\n",
        "ax.set(xlabel='Combined Miles Per Gallon', ylabel='Density')"
      ],
      "execution_count": null,
      "outputs": [
        {
          "output_type": "stream",
          "name": "stderr",
          "text": [
            "/usr/local/lib/python3.7/dist-packages/seaborn/distributions.py:2557: FutureWarning: `distplot` is a deprecated function and will be removed in a future version. Please adapt your code to use either `displot` (a figure-level function with similar flexibility) or `histplot` (an axes-level function for histograms).\n",
            "  warnings.warn(msg, FutureWarning)\n"
          ]
        },
        {
          "output_type": "execute_result",
          "data": {
            "text/plain": [
              "[Text(0, 0.5, 'Density'), Text(0.5, 0, 'Combined Miles Per Gallon')]"
            ]
          },
          "metadata": {},
          "execution_count": 7
        },
        {
          "output_type": "display_data",
          "data": {
            "image/png": "[encoded data removed]",
            "text/plain": [
              "<Figure size 432x288 with 1 Axes>"
            ]
          },
          "metadata": {}
        }
      ]
    },
    {
      "cell_type": "markdown",
      "metadata": {
        "id": "AW8QkP2nbx_9"
      },
      "source": [
        "# **`SCATTER PLOT - scatterplot`**"
      ]
    },
    {
      "cell_type": "code",
      "metadata": {
        "id": "t8dsBjjLSoUg",
        "colab": {
          "base_uri": "https://localhost:8080/",
          "height": 535
        },
        "outputId": "e95429fc-a3a8-49c4-d649-00c39b8b3eaa"
      },
      "source": [
        "#Add a hue that makes sense to you!\n",
        "#The code below aids in changing the size of your ouput graph\n",
        "sns.set(rc={'figure.figsize':(11.7,8.27)})\n",
        "\n",
        "#ax = sns.scatterplot(x=\"Eng Displ\", y=\"CombMPG\", data=df)\n",
        "\n",
        "ax = sns.scatterplot(x=\"Eng Displ\", y=\"CombMPG\", data=df, hue=\"Mfr Name\")\n",
        "\n",
        "ax.set(xlabel='Engine Displacement', ylabel='Combined MPG')"
      ],
      "execution_count": null,
      "outputs": [
        {
          "output_type": "execute_result",
          "data": {
            "text/plain": [
              "[Text(0, 0.5, 'Combined MPG'), Text(0.5, 0, 'Engine Displacement')]"
            ]
          },
          "metadata": {},
          "execution_count": 10
        },
        {
          "output_type": "display_data",
          "data": {
            "image/png": "[encoded data removed]",
            "text/plain": [
              "<Figure size 842.4x595.44 with 1 Axes>"
            ]
          },
          "metadata": {}
        }
      ]
    },
    {
      "cell_type": "markdown",
      "metadata": {
        "id": "8JLtpZHPgSYm"
      },
      "source": [
        "# **`JOINT PLOT - jointplot`**"
      ]
    },
    {
      "cell_type": "code",
      "metadata": {
        "id": "UBD6Ri2EgRH3"
      },
      "source": [
        "#Loading in a built in dataset from seaborn regarding car crashes\n",
        "crashes = sns.load_dataset('car_crashes')"
      ],
      "execution_count": null,
      "outputs": []
    },
    {
      "cell_type": "code",
      "metadata": {
        "id": "E8tLQ5YBh0o5",
        "colab": {
          "base_uri": "https://localhost:8080/",
          "height": 203
        },
        "outputId": "492b9f34-c8e5-4b35-9fe7-039f7010b62e"
      },
      "source": [
        "#see what the dataframe looks like\n",
        "crashes.head()"
      ],
      "execution_count": null,
      "outputs": [
        {
          "output_type": "execute_result",
          "data": {
            "text/html": [
              "<div>\n",
              "<style scoped>\n",
              "    .dataframe tbody tr th:only-of-type {\n",
              "        vertical-align: middle;\n",
              "    }\n",
              "\n",
              "    .dataframe tbody tr th {\n",
              "        vertical-align: top;\n",
              "    }\n",
              "\n",
              "    .dataframe thead th {\n",
              "        text-align: right;\n",
              "    }\n",
              "</style>\n",
              "<table border=\"1\" class=\"dataframe\">\n",
              "  <thead>\n",
              "    <tr style=\"text-align: right;\">\n",
              "      <th></th>\n",
              "      <th>total</th>\n",
              "      <th>speeding</th>\n",
              "      <th>alcohol</th>\n",
              "      <th>not_distracted</th>\n",
              "      <th>no_previous</th>\n",
              "      <th>ins_premium</th>\n",
              "      <th>ins_losses</th>\n",
              "      <th>abbrev</th>\n",
              "    </tr>\n",
              "  </thead>\n",
              "  <tbody>\n",
              "    <tr>\n",
              "      <th>0</th>\n",
              "      <td>18.8</td>\n",
              "      <td>7.332</td>\n",
              "      <td>5.640</td>\n",
              "      <td>18.048</td>\n",
              "      <td>15.040</td>\n",
              "      <td>784.55</td>\n",
              "      <td>145.08</td>\n",
              "      <td>AL</td>\n",
              "    </tr>\n",
              "    <tr>\n",
              "      <th>1</th>\n",
              "      <td>18.1</td>\n",
              "      <td>7.421</td>\n",
              "      <td>4.525</td>\n",
              "      <td>16.290</td>\n",
              "      <td>17.014</td>\n",
              "      <td>1053.48</td>\n",
              "      <td>133.93</td>\n",
              "      <td>AK</td>\n",
              "    </tr>\n",
              "    <tr>\n",
              "      <th>2</th>\n",
              "      <td>18.6</td>\n",
              "      <td>6.510</td>\n",
              "      <td>5.208</td>\n",
              "      <td>15.624</td>\n",
              "      <td>17.856</td>\n",
              "      <td>899.47</td>\n",
              "      <td>110.35</td>\n",
              "      <td>AZ</td>\n",
              "    </tr>\n",
              "    <tr>\n",
              "      <th>3</th>\n",
              "      <td>22.4</td>\n",
              "      <td>4.032</td>\n",
              "      <td>5.824</td>\n",
              "      <td>21.056</td>\n",
              "      <td>21.280</td>\n",
              "      <td>827.34</td>\n",
              "      <td>142.39</td>\n",
              "      <td>AR</td>\n",
              "    </tr>\n",
              "    <tr>\n",
              "      <th>4</th>\n",
              "      <td>12.0</td>\n",
              "      <td>4.200</td>\n",
              "      <td>3.360</td>\n",
              "      <td>10.920</td>\n",
              "      <td>10.680</td>\n",
              "      <td>878.41</td>\n",
              "      <td>165.63</td>\n",
              "      <td>CA</td>\n",
              "    </tr>\n",
              "  </tbody>\n",
              "</table>\n",
              "</div>"
            ],
            "text/plain": [
              "   total  speeding  alcohol  ...  ins_premium  ins_losses  abbrev\n",
              "0   18.8     7.332    5.640  ...       784.55      145.08      AL\n",
              "1   18.1     7.421    4.525  ...      1053.48      133.93      AK\n",
              "2   18.6     6.510    5.208  ...       899.47      110.35      AZ\n",
              "3   22.4     4.032    5.824  ...       827.34      142.39      AR\n",
              "4   12.0     4.200    3.360  ...       878.41      165.63      CA\n",
              "\n",
              "[5 rows x 8 columns]"
            ]
          },
          "metadata": {},
          "execution_count": 12
        }
      ]
    },
    {
      "cell_type": "code",
      "metadata": {
        "id": "PubkqrOxh2wp",
        "colab": {
          "base_uri": "https://localhost:8080/",
          "height": 437
        },
        "outputId": "7266c3c6-5ba7-45c0-841c-5f21a97c632f"
      },
      "source": [
        "#Add in your preference for the kind parameter\n",
        "ax = sns.jointplot(x='speeding', y='alcohol', data=crashes)\n",
        "\n",
        "#ax = sns.jointplot(x='speeding', y='alcohol', data=crashes, kind=, color=)"
      ],
      "execution_count": null,
      "outputs": [
        {
          "output_type": "display_data",
          "data": {
            "image/png": "[encoded data removed]",
            "text/plain": [
              "<Figure size 432x432 with 3 Axes>"
            ]
          },
          "metadata": {}
        }
      ]
    },
    {
      "cell_type": "markdown",
      "metadata": {
        "id": "lESVmv1KjS9h"
      },
      "source": [
        "# **`SCATTER PLOT WITH REGRESSION LINE - lmplot`**"
      ]
    },
    {
      "cell_type": "code",
      "metadata": {
        "id": "YrS0h6W9iSGP"
      },
      "source": [
        "ax = sns.lmplot(x=\"alcohol\", y=\"speeding\", data=crashes)"
      ],
      "execution_count": null,
      "outputs": []
    },
    {
      "cell_type": "markdown",
      "metadata": {
        "id": "0jN4XTRJkD1I"
      },
      "source": [
        "# **`BOX PLOT - boxplot`**"
      ]
    },
    {
      "cell_type": "code",
      "metadata": {
        "id": "Kl1LrT0sjt3x"
      },
      "source": [
        "#Loading in a built in dataset from seaborn regarding waiter tips given by people\n",
        "tips = sns.load_dataset('tips')\n",
        "tips.head()"
      ],
      "execution_count": null,
      "outputs": []
    },
    {
      "cell_type": "code",
      "metadata": {
        "id": "C3k3uZkP4oEv"
      },
      "source": [
        "sns.set_style()\n",
        "#controls the general style of plots\n",
        "\n",
        "sns.set_context()\n",
        "#controls the scaling of plots\n",
        "\n",
        "#ax = sns.boxplot(x='day', y='total_bill', data=tips)\n",
        "\n",
        "ax = sns.boxplot(x='day', y='total_bill', data=tips, hue='sex', palette='viridis')\n",
        "\n",
        "ax.set(xlabel='Day of Week', ylabel='Total Bill Price')"
      ],
      "execution_count": null,
      "outputs": []
    },
    {
      "cell_type": "code",
      "metadata": {
        "id": "Wp6yXrzgmh7k"
      },
      "source": [
        "#Another example of boxplot - Manafacturer Name vs Combined MPG\n",
        "#Add in the figsize of your preference\n",
        "sns.set(rc={'figure.figsize':(15,5)})\n",
        "\n",
        "ax=sns.boxplot(x='Mfr Name', y='CombMPG', data=df)\n",
        "\n",
        "#Rotation of manafacturer name to fit the names in a clearer manner\n",
        "ax.set_xticklabels(ax.get_xticklabels(),rotation=45);\n",
        "\n",
        "ax.set(xlabel='Manufacturer Name', ylabel='Combined MPG')"
      ],
      "execution_count": null,
      "outputs": []
    },
    {
      "cell_type": "markdown",
      "metadata": {
        "id": "MIaE0xt3qOtL"
      },
      "source": [
        "# **`SWARM PLOT - swarmplot`**"
      ]
    },
    {
      "cell_type": "code",
      "metadata": {
        "id": "EqZZxp_0nOOG"
      },
      "source": [
        "ax=sns.swarmplot(x='Mfr Name', y='CombMPG', data=df);\n",
        "\n",
        "ax.set_xticklabels(ax.get_xticklabels(),rotation=45);"
      ],
      "execution_count": null,
      "outputs": []
    },
    {
      "cell_type": "markdown",
      "metadata": {
        "id": "buiYccpfq_kj"
      },
      "source": [
        "# **`PAIR PLOT - pairplot`**"
      ]
    },
    {
      "cell_type": "code",
      "metadata": {
        "id": "nezdAgfKqV9K"
      },
      "source": [
        "#Loading the very famous iris dataset to show how pairplot works\n",
        "iris = sns.load_dataset(\"iris\")\n",
        "\n",
        "iris.head()"
      ],
      "execution_count": null,
      "outputs": []
    },
    {
      "cell_type": "code",
      "metadata": {
        "id": "sgvDmkdw5nDc"
      },
      "source": [
        "#sns.pairplot(iris)\n",
        "\n",
        "sns.pairplot(iris, hue = 'species')\n",
        "\n",
        "#ax = sns.pairplot(iris, hue = 'species', markers=[\"o\", \"s\", \"D\"], palette=\"magma\")"
      ],
      "execution_count": null,
      "outputs": []
    },
    {
      "cell_type": "markdown",
      "metadata": {
        "id": "VErF-zH5veZ1"
      },
      "source": [
        "# **`VIOLIN PLOT - violinplot`**"
      ]
    },
    {
      "cell_type": "code",
      "metadata": {
        "id": "REFpc4bduX50"
      },
      "source": [
        "#ax = sns.violinplot(x='day', y='total_bill', data = tips)\n",
        "\n",
        "ax = sns.violinplot(x='day', y='total_bill', data = tips, hue='sex', palette='viridis')\n",
        "\n",
        "#ax = sns.violinplot(x='day', y='total_bill', data = tips, hue='sex', scale='count', palette=\"viridis\")\n",
        "\n",
        "#ax = sns.violinplot(x='day', y='total_bill', data = tips, hue='sex', palette='viridis', inner='quartile')\n",
        "\n",
        "ax.set(xlabel=\"Day of Week\", ylabel=\"Total Bill Price\")"
      ],
      "execution_count": null,
      "outputs": []
    },
    {
      "cell_type": "markdown",
      "metadata": {
        "id": "6Agv7YAwy0kG"
      },
      "source": [
        "# **`HEATMAP - heatmap`**"
      ]
    },
    {
      "cell_type": "code",
      "metadata": {
        "id": "aQT0Z__AzAmW"
      },
      "source": [
        "#Loading external dataset from seaborn - flight attendance details\n",
        "flights = sns.load_dataset(\"flights\")\n",
        "\n",
        "flights.head()"
      ],
      "execution_count": null,
      "outputs": []
    },
    {
      "cell_type": "code",
      "metadata": {
        "id": "rl7PuPP5zmF-"
      },
      "source": [
        "#pivoting table to manipulate table to our ease\n",
        "flights = flights.pivot_table(index='month', columns='year', values = 'passengers')\n",
        "\n",
        "flights.head()"
      ],
      "execution_count": null,
      "outputs": []
    },
    {
      "cell_type": "code",
      "metadata": {
        "id": "NSQ3e9CpzkkO"
      },
      "source": [
        "ax = sns.heatmap(flights, cmap='Blues', linecolor='white', linewidth=1)\n",
        "\n",
        "ax.set(xlabel=\"Year\", ylabel=\"Month\")"
      ],
      "execution_count": null,
      "outputs": []
    },
    {
      "cell_type": "markdown",
      "metadata": {
        "id": "_JAzbe821M-H"
      },
      "source": [
        "# **`THANK YOU FOR TAKING PART IN MY DEMO :)`**"
      ]
    },
    {
      "cell_type": "code",
      "metadata": {
        "id": "jlcKbvac0IPc"
      },
      "source": [],
      "execution_count": null,
      "outputs": []
    }
  ]
}